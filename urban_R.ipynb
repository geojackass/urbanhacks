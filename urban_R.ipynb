{
 "cells": [
  {
   "cell_type": "code",
   "execution_count": 2,
   "id": "8e5e3241-af56-4301-9e35-116f55f74f68",
   "metadata": {},
   "outputs": [],
   "source": [
    "perm <- function(n,k){choose(n,k) * factorial(k)}"
   ]
  },
  {
   "cell_type": "code",
   "execution_count": 3,
   "id": "a7652d2a-62ff-467b-bce8-976d984937e7",
   "metadata": {},
   "outputs": [
    {
     "data": {
      "text/html": [
       "0.891231809817947"
      ],
      "text/latex": [
       "0.891231809817947"
      ],
      "text/markdown": [
       "0.891231809817947"
      ],
      "text/plain": [
       "[1] 0.8912318"
      ]
     },
     "metadata": {},
     "output_type": "display_data"
    }
   ],
   "source": [
    "1 - (perm(365, 40)/365^40)"
   ]
  }
 ],
 "metadata": {
  "kernelspec": {
   "display_name": "R",
   "language": "R",
   "name": "ir"
  },
  "language_info": {
   "codemirror_mode": "r",
   "file_extension": ".r",
   "mimetype": "text/x-r-source",
   "name": "R",
   "pygments_lexer": "r",
   "version": "4.1.3"
  }
 },
 "nbformat": 4,
 "nbformat_minor": 5
}
