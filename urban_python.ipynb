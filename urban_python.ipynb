{
 "cells": [
  {
   "cell_type": "code",
   "execution_count": 1,
   "id": "80f9b5aa-fdd0-421d-bf72-f721f9be7291",
   "metadata": {},
   "outputs": [],
   "source": [
    "from scipy.special import perm"
   ]
  },
  {
   "cell_type": "code",
   "execution_count": 2,
   "id": "9568f09e-3223-43fa-9b28-ee7b010b80a7",
   "metadata": {},
   "outputs": [
    {
     "data": {
      "text/plain": [
       "0.10876819018205103"
      ]
     },
     "execution_count": 2,
     "metadata": {},
     "output_type": "execute_result"
    }
   ],
   "source": [
    "perm(365, 40)/365**40"
   ]
  }
 ],
 "metadata": {
  "kernelspec": {
   "display_name": "Python 3 (ipykernel)",
   "language": "python",
   "name": "python3"
  },
  "language_info": {
   "codemirror_mode": {
    "name": "ipython",
    "version": 3
   },
   "file_extension": ".py",
   "mimetype": "text/x-python",
   "name": "python",
   "nbconvert_exporter": "python",
   "pygments_lexer": "ipython3",
   "version": "3.10.5"
  }
 },
 "nbformat": 4,
 "nbformat_minor": 5
}
