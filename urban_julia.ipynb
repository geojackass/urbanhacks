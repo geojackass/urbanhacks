{
 "cells": [
  {
   "cell_type": "code",
   "execution_count": 1,
   "id": "1065b90c-a46c-4271-b4af-112a5de6d535",
   "metadata": {},
   "outputs": [
    {
     "name": "stderr",
     "output_type": "stream",
     "text": [
      "\u001b[32m\u001b[1m    Updating\u001b[22m\u001b[39m registry at `/opt/julia/registries/General.toml`\n",
      "\u001b[32m\u001b[1m   Resolving\u001b[22m\u001b[39m package versions...\n",
      "\u001b[32m\u001b[1m  No Changes\u001b[22m\u001b[39m to `/opt/julia/environments/v1.7/Project.toml`\n",
      "\u001b[32m\u001b[1m  No Changes\u001b[22m\u001b[39m to `/opt/julia/environments/v1.7/Manifest.toml`\n",
      "\u001b[32m\u001b[1m   Resolving\u001b[22m\u001b[39m package versions...\n",
      "\u001b[32m\u001b[1m  No Changes\u001b[22m\u001b[39m to `/opt/julia/environments/v1.7/Project.toml`\n",
      "\u001b[32m\u001b[1m  No Changes\u001b[22m\u001b[39m to `/opt/julia/environments/v1.7/Manifest.toml`\n"
     ]
    }
   ],
   "source": [
    "using Pkg\n",
    "Pkg.add(\"Combinatorics\")\n",
    "using Combinatorics\n",
    "Pkg.add(\"StatsBase\")\n",
    "using StatsBase"
   ]
  },
  {
   "cell_type": "code",
   "execution_count": 1,
   "id": "92f73162-f492-4fda-91ba-6e4607dce804",
   "metadata": {},
   "outputs": [
    {
     "ename": "LoadError",
     "evalue": "OverflowError: binomial(365, 40) overflows",
     "output_type": "error",
     "traceback": [
      "OverflowError: binomial(365, 40) overflows",
      "",
      "Stacktrace:",
      " [1] binomial(n::Int64, k::Int64)",
      "   @ Base ./intfuncs.jl:1042",
      " [2] top-level scope",
      "   @ In[1]:2",
      " [3] eval",
      "   @ ./boot.jl:373 [inlined]",
      " [4] include_string(mapexpr::typeof(REPL.softscope), mod::Module, code::String, filename::String)",
      "   @ Base ./loading.jl:1196"
     ]
    }
   ],
   "source": [
    "n=365; r=40;\n",
    "binomial(n, r) * factorial(r) # 順列数nPr"
   ]
  },
  {
   "cell_type": "code",
   "execution_count": 3,
   "id": "b1a712c0-6de4-4c6e-86a1-6ead939005dd",
   "metadata": {},
   "outputs": [
    {
     "ename": "LoadError",
     "evalue": "OverflowError: 40 is too large to look up in the table; consider using `factorial(big(40))` instead",
     "output_type": "error",
     "traceback": [
      "OverflowError: 40 is too large to look up in the table; consider using `factorial(big(40))` instead",
      "",
      "Stacktrace:",
      " [1] factorial_lookup",
      "   @ ./combinatorics.jl:19 [inlined]",
      " [2] factorial(n::Int64)",
      "   @ Base ./combinatorics.jl:27",
      " [3] top-level scope",
      "   @ In[3]:1",
      " [4] eval",
      "   @ ./boot.jl:373 [inlined]",
      " [5] include_string(mapexpr::typeof(REPL.softscope), mod::Module, code::String, filename::String)",
      "   @ Base ./loading.jl:1196"
     ]
    }
   ],
   "source": [
    "factorial(40)"
   ]
  }
 ],
 "metadata": {
  "kernelspec": {
   "display_name": "Julia 1.7.3",
   "language": "julia",
   "name": "julia-1.7"
  },
  "language_info": {
   "file_extension": ".jl",
   "mimetype": "application/julia",
   "name": "julia",
   "version": "1.7.3"
  }
 },
 "nbformat": 4,
 "nbformat_minor": 5
}
